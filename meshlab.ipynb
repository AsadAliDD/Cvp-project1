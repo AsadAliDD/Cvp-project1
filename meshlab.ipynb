{
 "cells": [
  {
   "cell_type": "code",
   "execution_count": 4,
   "metadata": {},
   "outputs": [],
   "source": [
    "import pymeshlab\n",
    "from data import select_objects,download_objects"
   ]
  },
  {
   "cell_type": "code",
   "execution_count": 5,
   "metadata": {},
   "outputs": [
    {
     "name": "stdout",
     "output_type": "stream",
     "text": [
      "['mound_(baseball)', 'hand_towel', 'nailfile', 'cleat_(for_securing_rope)', 'soup', 'sponge', 'pillow', 'canister', 'lightbulb', 'eel', 'cow', 'vodka', 'yacht', 'bandage', 'sweatband', 'packet', 'funnel', 'deer', 'polar_bear', 'horse_buggy', 'pot', 'pitcher_(vessel_for_liquid)', 'bullet_train', 'sewing_machine', 'whipped_cream', 'water_gun', 'paper_towel', 'bandage', 'Dixie_cup', 'bulletin_board', 'underwear', 'doorknob', 'flower_arrangement', 'tiger', 'drumstick', 'mattress', 'hat', 'beanbag', 'newspaper', 'strap', 'can_opener', 'coffeepot', 'grill', 'backpack', 'knitting_needle', 'sparkler_(fireworks)', 'pipe', 'mail_slot', 'sunglasses', 'calf']\n"
     ]
    }
   ],
   "source": [
    "uids=select_objects(seed=10,object_type=50,object_number=2)\n",
    "objects=download_objects(uids)"
   ]
  },
  {
   "cell_type": "code",
   "execution_count": 6,
   "metadata": {},
   "outputs": [
    {
     "data": {
      "text/plain": [
       "{'2ac6dd5ddea74e258f65c79de7f47558': '/home/valkyrie/.objaverse/hf-objaverse-v1/glbs/000-031/2ac6dd5ddea74e258f65c79de7f47558.glb',\n",
       " 'ac2495f435aa4834b4ec80a9dcfc95d4': '/home/valkyrie/.objaverse/hf-objaverse-v1/glbs/000-069/ac2495f435aa4834b4ec80a9dcfc95d4.glb',\n",
       " '176c6cfb52184a4eb7edaad4eb6a9f22': '/home/valkyrie/.objaverse/hf-objaverse-v1/glbs/000-088/176c6cfb52184a4eb7edaad4eb6a9f22.glb',\n",
       " 'c5a6ae6631ff44148052ac790f55df33': '/home/valkyrie/.objaverse/hf-objaverse-v1/glbs/000-066/c5a6ae6631ff44148052ac790f55df33.glb',\n",
       " 'a57576f25ecb4b359411e88e9ee5c4d5': '/home/valkyrie/.objaverse/hf-objaverse-v1/glbs/000-032/a57576f25ecb4b359411e88e9ee5c4d5.glb',\n",
       " '0c242c3a05294aa2be9febf9037a317e': '/home/valkyrie/.objaverse/hf-objaverse-v1/glbs/000-137/0c242c3a05294aa2be9febf9037a317e.glb',\n",
       " '759e480d707944ee87b1ce61875a320e': '/home/valkyrie/.objaverse/hf-objaverse-v1/glbs/000-091/759e480d707944ee87b1ce61875a320e.glb',\n",
       " '176a54958a5a41c2955fde2a0b252a10': '/home/valkyrie/.objaverse/hf-objaverse-v1/glbs/000-078/176a54958a5a41c2955fde2a0b252a10.glb',\n",
       " '507ddc56479241b68bac7b48a9b14a91': '/home/valkyrie/.objaverse/hf-objaverse-v1/glbs/000-146/507ddc56479241b68bac7b48a9b14a91.glb',\n",
       " '55385aa2ece44da89e871864e8d20929': '/home/valkyrie/.objaverse/hf-objaverse-v1/glbs/000-044/55385aa2ece44da89e871864e8d20929.glb',\n",
       " 'e808a44eb85b4be38ed2d8074e9c4ff3': '/home/valkyrie/.objaverse/hf-objaverse-v1/glbs/000-078/e808a44eb85b4be38ed2d8074e9c4ff3.glb',\n",
       " 'de51dc61ec7c45eab148d81cd393dd11': '/home/valkyrie/.objaverse/hf-objaverse-v1/glbs/000-055/de51dc61ec7c45eab148d81cd393dd11.glb',\n",
       " '022f2092ded7436ca793f1948d7db12f': '/home/valkyrie/.objaverse/hf-objaverse-v1/glbs/000-000/022f2092ded7436ca793f1948d7db12f.glb',\n",
       " '3ee733bfd37b4692a7efb7719ba32626': '/home/valkyrie/.objaverse/hf-objaverse-v1/glbs/000-091/3ee733bfd37b4692a7efb7719ba32626.glb',\n",
       " '7ae04e7f345449cd8dabf6e78ff687e6': '/home/valkyrie/.objaverse/hf-objaverse-v1/glbs/000-012/7ae04e7f345449cd8dabf6e78ff687e6.glb',\n",
       " 'f184d645df9f428b9fe8aa8e74262b4f': '/home/valkyrie/.objaverse/hf-objaverse-v1/glbs/000-125/f184d645df9f428b9fe8aa8e74262b4f.glb',\n",
       " '86364373a3be40949e4a6a863933a25a': '/home/valkyrie/.objaverse/hf-objaverse-v1/glbs/000-077/86364373a3be40949e4a6a863933a25a.glb',\n",
       " '871ed12da7484c86b4d59a306813b1f9': '/home/valkyrie/.objaverse/hf-objaverse-v1/glbs/000-128/871ed12da7484c86b4d59a306813b1f9.glb',\n",
       " 'b7ed0afe362c44659e6dd967bfcfbe50': '/home/valkyrie/.objaverse/hf-objaverse-v1/glbs/000-073/b7ed0afe362c44659e6dd967bfcfbe50.glb',\n",
       " '04abc6132f1f41e1b430287d0fcb7df0': '/home/valkyrie/.objaverse/hf-objaverse-v1/glbs/000-000/04abc6132f1f41e1b430287d0fcb7df0.glb',\n",
       " 'd8211f8358854c429971cd213f5aba52': '/home/valkyrie/.objaverse/hf-objaverse-v1/glbs/000-127/d8211f8358854c429971cd213f5aba52.glb',\n",
       " '76651f9e8af5444897bb653ba28d7f2f': '/home/valkyrie/.objaverse/hf-objaverse-v1/glbs/000-044/76651f9e8af5444897bb653ba28d7f2f.glb',\n",
       " '84825e8d58134cd9964406af562f46ca': '/home/valkyrie/.objaverse/hf-objaverse-v1/glbs/000-069/84825e8d58134cd9964406af562f46ca.glb',\n",
       " '5555de9eedb045ecb30f9039a7b17711': '/home/valkyrie/.objaverse/hf-objaverse-v1/glbs/000-020/5555de9eedb045ecb30f9039a7b17711.glb',\n",
       " '1c5b01f4ebf14c4c968e3afd4061e001': '/home/valkyrie/.objaverse/hf-objaverse-v1/glbs/000-056/1c5b01f4ebf14c4c968e3afd4061e001.glb',\n",
       " '93d57f0c4ae04a89b698b84a5cc28620': '/home/valkyrie/.objaverse/hf-objaverse-v1/glbs/000-108/93d57f0c4ae04a89b698b84a5cc28620.glb',\n",
       " '04b7f47e732348aeb82a23cfc8986d1e': '/home/valkyrie/.objaverse/hf-objaverse-v1/glbs/000-000/04b7f47e732348aeb82a23cfc8986d1e.glb',\n",
       " '68a8c84c742d423f847c6526cb4f720c': '/home/valkyrie/.objaverse/hf-objaverse-v1/glbs/000-151/68a8c84c742d423f847c6526cb4f720c.glb',\n",
       " '1e04e9d2bed3410e8569c5051913b354': '/home/valkyrie/.objaverse/hf-objaverse-v1/glbs/000-123/1e04e9d2bed3410e8569c5051913b354.glb',\n",
       " 'c922aa870b0b492b9addd449cf79f5df': '/home/valkyrie/.objaverse/hf-objaverse-v1/glbs/000-154/c922aa870b0b492b9addd449cf79f5df.glb',\n",
       " '00d1be4411f848efaeb72b936d4d1692': '/home/valkyrie/.objaverse/hf-objaverse-v1/glbs/000-000/00d1be4411f848efaeb72b936d4d1692.glb',\n",
       " 'fd7bc706c4074fa4ae6bb1ce1ffe02df': '/home/valkyrie/.objaverse/hf-objaverse-v1/glbs/000-058/fd7bc706c4074fa4ae6bb1ce1ffe02df.glb',\n",
       " '0b5c8b80cb6e4941887b244b6bd5cc77': '/home/valkyrie/.objaverse/hf-objaverse-v1/glbs/000-155/0b5c8b80cb6e4941887b244b6bd5cc77.glb',\n",
       " '64eaba9e990640c1ab63894bece30376': '/home/valkyrie/.objaverse/hf-objaverse-v1/glbs/000-052/64eaba9e990640c1ab63894bece30376.glb',\n",
       " '0e4cd5dff04143dda558b7b52d61f616': '/home/valkyrie/.objaverse/hf-objaverse-v1/glbs/000-078/0e4cd5dff04143dda558b7b52d61f616.glb',\n",
       " 'd86376f3cc7e4cf595d9e984b39342e6': '/home/valkyrie/.objaverse/hf-objaverse-v1/glbs/000-104/d86376f3cc7e4cf595d9e984b39342e6.glb',\n",
       " '63a955a9b54e419e89a670a0ff37ccf4': '/home/valkyrie/.objaverse/hf-objaverse-v1/glbs/000-158/63a955a9b54e419e89a670a0ff37ccf4.glb',\n",
       " 'c2f19ee63e29461da69f6cce6833ca7e': '/home/valkyrie/.objaverse/hf-objaverse-v1/glbs/000-154/c2f19ee63e29461da69f6cce6833ca7e.glb',\n",
       " '950135a993bd41878b7d96a9273df459': '/home/valkyrie/.objaverse/hf-objaverse-v1/glbs/000-074/950135a993bd41878b7d96a9273df459.glb',\n",
       " 'aa671137648c4b049bd41f8d0d35cc2f': '/home/valkyrie/.objaverse/hf-objaverse-v1/glbs/000-061/aa671137648c4b049bd41f8d0d35cc2f.glb',\n",
       " '7d22e8fbe5a54519b2661fea300797fa': '/home/valkyrie/.objaverse/hf-objaverse-v1/glbs/000-020/7d22e8fbe5a54519b2661fea300797fa.glb',\n",
       " 'dbebc9fbcf2a45c1b983d91c416fd87e': '/home/valkyrie/.objaverse/hf-objaverse-v1/glbs/000-153/dbebc9fbcf2a45c1b983d91c416fd87e.glb',\n",
       " '2c60fb7ca1e04933a61f578ee7a02c44': '/home/valkyrie/.objaverse/hf-objaverse-v1/glbs/000-027/2c60fb7ca1e04933a61f578ee7a02c44.glb',\n",
       " '3f6c325d7cd4472d8dbafac1ef9f03d6': '/home/valkyrie/.objaverse/hf-objaverse-v1/glbs/000-000/3f6c325d7cd4472d8dbafac1ef9f03d6.glb',\n",
       " '6a801e7437de4457bcfae459d086dd4d': '/home/valkyrie/.objaverse/hf-objaverse-v1/glbs/000-079/6a801e7437de4457bcfae459d086dd4d.glb',\n",
       " 'be4426cef1054b5693ffca10699e6f3a': '/home/valkyrie/.objaverse/hf-objaverse-v1/glbs/000-118/be4426cef1054b5693ffca10699e6f3a.glb',\n",
       " '56ef603e301f4f4c81bf78650b3c4c24': '/home/valkyrie/.objaverse/hf-objaverse-v1/glbs/000-156/56ef603e301f4f4c81bf78650b3c4c24.glb',\n",
       " 'efa8f6ec44db491abacb80fce53eaf63': '/home/valkyrie/.objaverse/hf-objaverse-v1/glbs/000-021/efa8f6ec44db491abacb80fce53eaf63.glb',\n",
       " '4561e45110044d5f854f1301a8a1f0bf': '/home/valkyrie/.objaverse/hf-objaverse-v1/glbs/000-110/4561e45110044d5f854f1301a8a1f0bf.glb',\n",
       " 'ed32e368b77f4fa88c1f0eff73e8bc55': '/home/valkyrie/.objaverse/hf-objaverse-v1/glbs/000-071/ed32e368b77f4fa88c1f0eff73e8bc55.glb',\n",
       " '07cde4ef2a774bc18a3ca5f9bf08b90f': '/home/valkyrie/.objaverse/hf-objaverse-v1/glbs/000-139/07cde4ef2a774bc18a3ca5f9bf08b90f.glb',\n",
       " 'dd69fc9ace7949fbabfc63092a723ece': '/home/valkyrie/.objaverse/hf-objaverse-v1/glbs/000-032/dd69fc9ace7949fbabfc63092a723ece.glb',\n",
       " '0faf6eac4115476da70a623de4b2cdba': '/home/valkyrie/.objaverse/hf-objaverse-v1/glbs/000-135/0faf6eac4115476da70a623de4b2cdba.glb',\n",
       " '0c2692e46cab4c50907578e296cfee99': '/home/valkyrie/.objaverse/hf-objaverse-v1/glbs/000-038/0c2692e46cab4c50907578e296cfee99.glb',\n",
       " '6b31b5a0cafd448eabb668ef0fd244d3': '/home/valkyrie/.objaverse/hf-objaverse-v1/glbs/000-071/6b31b5a0cafd448eabb668ef0fd244d3.glb',\n",
       " '6b3afe782b204dfba87a03ddaf222958': '/home/valkyrie/.objaverse/hf-objaverse-v1/glbs/000-114/6b3afe782b204dfba87a03ddaf222958.glb',\n",
       " '7b83c3e4504e4fafa5375eff97abcc23': '/home/valkyrie/.objaverse/hf-objaverse-v1/glbs/000-102/7b83c3e4504e4fafa5375eff97abcc23.glb',\n",
       " '9749ffdc1a4b4d38a6e60f48ffee4e3b': '/home/valkyrie/.objaverse/hf-objaverse-v1/glbs/000-117/9749ffdc1a4b4d38a6e60f48ffee4e3b.glb',\n",
       " '308ce9ac88904d128dc3fddb440af712': '/home/valkyrie/.objaverse/hf-objaverse-v1/glbs/000-018/308ce9ac88904d128dc3fddb440af712.glb',\n",
       " '9fdf57d1796649f0bef80035aa4d761c': '/home/valkyrie/.objaverse/hf-objaverse-v1/glbs/000-149/9fdf57d1796649f0bef80035aa4d761c.glb',\n",
       " 'f5aa537d99834294a239d85ddabb3af5': '/home/valkyrie/.objaverse/hf-objaverse-v1/glbs/000-136/f5aa537d99834294a239d85ddabb3af5.glb',\n",
       " '1e9f54cc9f7d42a697c3caf0db04c27f': '/home/valkyrie/.objaverse/hf-objaverse-v1/glbs/000-120/1e9f54cc9f7d42a697c3caf0db04c27f.glb',\n",
       " '40d6a071eb5f48809f115b8335228557': '/home/valkyrie/.objaverse/hf-objaverse-v1/glbs/000-060/40d6a071eb5f48809f115b8335228557.glb',\n",
       " '7b973295fdc445ecb26a39c4bb6577b6': '/home/valkyrie/.objaverse/hf-objaverse-v1/glbs/000-063/7b973295fdc445ecb26a39c4bb6577b6.glb',\n",
       " '374684d1616c4ca89de677f53fe82c9e': '/home/valkyrie/.objaverse/hf-objaverse-v1/glbs/000-151/374684d1616c4ca89de677f53fe82c9e.glb',\n",
       " 'b43c4976643942688d2ed35a9c9a9c1b': '/home/valkyrie/.objaverse/hf-objaverse-v1/glbs/000-150/b43c4976643942688d2ed35a9c9a9c1b.glb',\n",
       " '124208a44b1340eea1ff5572b37ab715': '/home/valkyrie/.objaverse/hf-objaverse-v1/glbs/000-059/124208a44b1340eea1ff5572b37ab715.glb',\n",
       " '6143f411dbb54f03a6e0273c23dba77f': '/home/valkyrie/.objaverse/hf-objaverse-v1/glbs/000-109/6143f411dbb54f03a6e0273c23dba77f.glb',\n",
       " '932a736f70894fa7b16950c6788cab49': '/home/valkyrie/.objaverse/hf-objaverse-v1/glbs/000-146/932a736f70894fa7b16950c6788cab49.glb',\n",
       " '6ea3e02e76744867a26320b7a7e68e4d': '/home/valkyrie/.objaverse/hf-objaverse-v1/glbs/000-155/6ea3e02e76744867a26320b7a7e68e4d.glb',\n",
       " 'c3e25bf4d6a64a698976e30bab8cb017': '/home/valkyrie/.objaverse/hf-objaverse-v1/glbs/000-151/c3e25bf4d6a64a698976e30bab8cb017.glb',\n",
       " '086645156ed248de98aeaef83da77ac8': '/home/valkyrie/.objaverse/hf-objaverse-v1/glbs/000-022/086645156ed248de98aeaef83da77ac8.glb',\n",
       " '1dfa6e3029084ba997892a176a2013ed': '/home/valkyrie/.objaverse/hf-objaverse-v1/glbs/000-040/1dfa6e3029084ba997892a176a2013ed.glb',\n",
       " 'abeafbc37d6446058e1be53e67e0baef': '/home/valkyrie/.objaverse/hf-objaverse-v1/glbs/000-066/abeafbc37d6446058e1be53e67e0baef.glb',\n",
       " '015d02aa38e04950825ec5f8dc3d533d': '/home/valkyrie/.objaverse/hf-objaverse-v1/glbs/000-000/015d02aa38e04950825ec5f8dc3d533d.glb',\n",
       " 'fe3630c0005a4031855f0a39d3e8de81': '/home/valkyrie/.objaverse/hf-objaverse-v1/glbs/000-118/fe3630c0005a4031855f0a39d3e8de81.glb',\n",
       " 'ebd6f15553cb4351b532925907262a8b': '/home/valkyrie/.objaverse/hf-objaverse-v1/glbs/000-125/ebd6f15553cb4351b532925907262a8b.glb',\n",
       " 'c2b31c7104554c41becfb0a960efcb4f': '/home/valkyrie/.objaverse/hf-objaverse-v1/glbs/000-065/c2b31c7104554c41becfb0a960efcb4f.glb',\n",
       " 'c45144af966a44c4b242b1e2fdbfdb29': '/home/valkyrie/.objaverse/hf-objaverse-v1/glbs/000-085/c45144af966a44c4b242b1e2fdbfdb29.glb',\n",
       " '11376cc0384f4aaba8d85a56f9740afc': '/home/valkyrie/.objaverse/hf-objaverse-v1/glbs/000-045/11376cc0384f4aaba8d85a56f9740afc.glb',\n",
       " 'ede1962c04c148538887116bbb40ec89': '/home/valkyrie/.objaverse/hf-objaverse-v1/glbs/000-052/ede1962c04c148538887116bbb40ec89.glb',\n",
       " '9fa199a53db54a9cb103fb6eb6b67fd2': '/home/valkyrie/.objaverse/hf-objaverse-v1/glbs/000-007/9fa199a53db54a9cb103fb6eb6b67fd2.glb',\n",
       " '6fdaf3876767485c89b85310c0233944': '/home/valkyrie/.objaverse/hf-objaverse-v1/glbs/000-145/6fdaf3876767485c89b85310c0233944.glb',\n",
       " '1aa2f6eed77d4db09db8dda7091040f4': '/home/valkyrie/.objaverse/hf-objaverse-v1/glbs/000-093/1aa2f6eed77d4db09db8dda7091040f4.glb',\n",
       " '5ee3339729b14c61bf1df973e51f96d9': '/home/valkyrie/.objaverse/hf-objaverse-v1/glbs/000-109/5ee3339729b14c61bf1df973e51f96d9.glb',\n",
       " '66a000e5dbc747578e8bed269168313e': '/home/valkyrie/.objaverse/hf-objaverse-v1/glbs/000-121/66a000e5dbc747578e8bed269168313e.glb',\n",
       " 'dfb56c353e0a4bc8a6d795a23cfada12': '/home/valkyrie/.objaverse/hf-objaverse-v1/glbs/000-122/dfb56c353e0a4bc8a6d795a23cfada12.glb',\n",
       " 'dff1090376c54c96ba6663139bb6e198': '/home/valkyrie/.objaverse/hf-objaverse-v1/glbs/000-139/dff1090376c54c96ba6663139bb6e198.glb',\n",
       " 'ff9fb3fc5bfa4fa19a4e8f07141fa4df': '/home/valkyrie/.objaverse/hf-objaverse-v1/glbs/000-001/ff9fb3fc5bfa4fa19a4e8f07141fa4df.glb',\n",
       " '6b7f0660ea574d6cb179693f294b8679': '/home/valkyrie/.objaverse/hf-objaverse-v1/glbs/000-007/6b7f0660ea574d6cb179693f294b8679.glb',\n",
       " '6f7aab8d6baa4e4bb9d4000dcee7c52a': '/home/valkyrie/.objaverse/hf-objaverse-v1/glbs/000-029/6f7aab8d6baa4e4bb9d4000dcee7c52a.glb',\n",
       " 'a19367aa0f84491d94e49612acf3a5b4': '/home/valkyrie/.objaverse/hf-objaverse-v1/glbs/000-139/a19367aa0f84491d94e49612acf3a5b4.glb',\n",
       " 'ffef2df2037041ad9aee816fe1f27ff2': '/home/valkyrie/.objaverse/hf-objaverse-v1/glbs/000-107/ffef2df2037041ad9aee816fe1f27ff2.glb',\n",
       " '99c1c97462054b40876827a422675ca3': '/home/valkyrie/.objaverse/hf-objaverse-v1/glbs/000-158/99c1c97462054b40876827a422675ca3.glb',\n",
       " '3f72a2b560f54b0abe8a81ca0c54bbda': '/home/valkyrie/.objaverse/hf-objaverse-v1/glbs/000-144/3f72a2b560f54b0abe8a81ca0c54bbda.glb',\n",
       " 'b09519abed1a4ee6ad1a6a17db34cb94': '/home/valkyrie/.objaverse/hf-objaverse-v1/glbs/000-037/b09519abed1a4ee6ad1a6a17db34cb94.glb',\n",
       " '48694528de7d432dbde413b1adb2f85e': '/home/valkyrie/.objaverse/hf-objaverse-v1/glbs/000-110/48694528de7d432dbde413b1adb2f85e.glb',\n",
       " 'c952cb79279c4b3581bbd00e36f376c8': '/home/valkyrie/.objaverse/hf-objaverse-v1/glbs/000-068/c952cb79279c4b3581bbd00e36f376c8.glb'}"
      ]
     },
     "execution_count": 6,
     "metadata": {},
     "output_type": "execute_result"
    }
   ],
   "source": [
    "objects"
   ]
  },
  {
   "cell_type": "code",
   "execution_count": 5,
   "metadata": {},
   "outputs": [
    {
     "name": "stdout",
     "output_type": "stream",
     "text": [
      "Number of Meshes: 1\n",
      "Mesh: 0 -- Vertices: 52541\n",
      "Mesh: 0 -- Vertices: 25596\n",
      "Image /home/valkyrie/Workspace/CVP/texture_0 cannot be saved. Your MeshLab version has not plugin to save  file format.\n"
     ]
    }
   ],
   "source": [
    "ms = pymeshlab.MeshSet()\n",
    "ms.load_new_mesh('./457cf1ce9c254830b59fc113371e5820.glb')\n",
    "number_meshes=ms.number_meshes()\n",
    "print (f\"Number of Meshes: {number_meshes}\")\n",
    "for mesh in range(0,number_meshes,1):\n",
    "    ms.set_current_mesh(mesh)\n",
    "    print (f\"Mesh: {mesh} -- Vertices: {ms.current_mesh().vertex_number()}\")\n",
    "    ms.meshing_decimation_quadric_edge_collapse(targetperc=0.5)\n",
    "    print (f\"Mesh: {mesh} -- Vertices: {ms.current_mesh().vertex_number()}\")\n",
    "    ms.compute_matrix_from_scaling_or_normalization(uniformflag=True,unitflag=True,freeze=True,alllayers=True)\n",
    "\n",
    "\n",
    "    try:\n",
    "        ms.save_current_mesh(f'./output_{mesh}.ply')\n",
    "    except Exception as e:\n",
    "        print (e)\n",
    "\n",
    "\n",
    "\n",
    "\n",
    "\n"
   ]
  },
  {
   "cell_type": "code",
   "execution_count": null,
   "metadata": {},
   "outputs": [],
   "source": []
  }
 ],
 "metadata": {
  "kernelspec": {
   "display_name": "docu",
   "language": "python",
   "name": "python3"
  },
  "language_info": {
   "codemirror_mode": {
    "name": "ipython",
    "version": 3
   },
   "file_extension": ".py",
   "mimetype": "text/x-python",
   "name": "python",
   "nbconvert_exporter": "python",
   "pygments_lexer": "ipython3",
   "version": "3.9.15"
  }
 },
 "nbformat": 4,
 "nbformat_minor": 2
}
