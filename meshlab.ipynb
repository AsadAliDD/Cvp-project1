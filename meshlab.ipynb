{
 "cells": [
  {
   "cell_type": "code",
   "execution_count": 1,
   "metadata": {},
   "outputs": [
    {
     "name": "stdout",
     "output_type": "stream",
     "text": [
      "Warning:\n",
      "Unable to load the following plugins:\n",
      "\n",
      "\tlibio_e57.so: libio_e57.so does not seem to be a Qt Plugin.\n",
      "\n",
      "Cannot load library /home/valkyrie/anaconda3/envs/docu/lib/python3.9/site-packages/pymeshlab/lib/plugins/libio_e57.so: (/lib/x86_64-linux-gnu/libp11-kit.so.0: undefined symbol: ffi_type_pointer, version LIBFFI_BASE_7.0)\n",
      "\n"
     ]
    }
   ],
   "source": [
    "import pymeshlab"
   ]
  },
  {
   "cell_type": "code",
   "execution_count": 5,
   "metadata": {},
   "outputs": [
    {
     "name": "stdout",
     "output_type": "stream",
     "text": [
      "Number of Meshes: 1\n",
      "Mesh: 0 -- Vertices: 52541\n",
      "Mesh: 0 -- Vertices: 25596\n",
      "Image /home/valkyrie/Workspace/CVP/texture_0 cannot be saved. Your MeshLab version has not plugin to save  file format.\n"
     ]
    }
   ],
   "source": [
    "ms = pymeshlab.MeshSet()\n",
    "ms.load_new_mesh('./457cf1ce9c254830b59fc113371e5820.glb')\n",
    "number_meshes=ms.number_meshes()\n",
    "print (f\"Number of Meshes: {number_meshes}\")\n",
    "for mesh in range(0,number_meshes,1):\n",
    "    ms.set_current_mesh(mesh)\n",
    "    print (f\"Mesh: {mesh} -- Vertices: {ms.current_mesh().vertex_number()}\")\n",
    "    ms.meshing_decimation_quadric_edge_collapse(targetperc=0.5)\n",
    "    print (f\"Mesh: {mesh} -- Vertices: {ms.current_mesh().vertex_number()}\")\n",
    "    ms.compute_matrix_from_scaling_or_normalization(uniformflag=True,unitflag=True,freeze=True,alllayers=True)\n",
    "\n",
    "\n",
    "    try:\n",
    "        ms.save_current_mesh(f'./output_{mesh}.ply')\n",
    "    except Exception as e:\n",
    "        print (e)\n",
    "\n",
    "\n",
    "\n",
    "\n",
    "\n"
   ]
  },
  {
   "cell_type": "code",
   "execution_count": 9,
   "metadata": {},
   "outputs": [
    {
     "ename": "PyMeshLabException",
     "evalue": "Image /home/valkyrie/Workspace/CVP/texture_3 cannot be saved. Your MeshLab version has not plugin to save  file format.",
     "output_type": "error",
     "traceback": [
      "\u001b[0;31m---------------------------------------------------------------------------\u001b[0m",
      "\u001b[0;31mPyMeshLabException\u001b[0m                        Traceback (most recent call last)",
      "\u001b[1;32m/home/valkyrie/Workspace/CVP/meshlab.ipynb Cell 3\u001b[0m line \u001b[0;36m1\n\u001b[0;32m----> <a href='vscode-notebook-cell://wsl%2Bubuntu/home/valkyrie/Workspace/CVP/meshlab.ipynb#W2sdnNjb2RlLXJlbW90ZQ%3D%3D?line=0'>1</a>\u001b[0m ms\u001b[39m.\u001b[39;49msave_current_mesh(\u001b[39m'\u001b[39;49m\u001b[39m./output.obj\u001b[39;49m\u001b[39m'\u001b[39;49m)\n",
      "\u001b[0;31mPyMeshLabException\u001b[0m: Image /home/valkyrie/Workspace/CVP/texture_3 cannot be saved. Your MeshLab version has not plugin to save  file format."
     ]
    }
   ],
   "source": [
    "ms.save_current_mesh('./output.obj')"
   ]
  },
  {
   "cell_type": "code",
   "execution_count": null,
   "metadata": {},
   "outputs": [],
   "source": []
  }
 ],
 "metadata": {
  "kernelspec": {
   "display_name": "docu",
   "language": "python",
   "name": "docu"
  },
  "language_info": {
   "codemirror_mode": {
    "name": "ipython",
    "version": 3
   },
   "file_extension": ".py",
   "mimetype": "text/x-python",
   "name": "python",
   "nbconvert_exporter": "python",
   "pygments_lexer": "ipython3",
   "version": "3.9.15"
  }
 },
 "nbformat": 4,
 "nbformat_minor": 2
}
