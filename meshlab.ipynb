{
 "cells": [
  {
   "cell_type": "code",
   "execution_count": 1,
   "metadata": {},
   "outputs": [
    {
     "name": "stdout",
     "output_type": "stream",
     "text": [
      "Warning:\n",
      "Unable to load the following plugins:\n",
      "\n",
      "\tlibio_e57.so: libio_e57.so does not seem to be a Qt Plugin.\n",
      "\n",
      "Cannot load library /home/valkyrie/anaconda3/envs/docu/lib/python3.9/site-packages/pymeshlab/lib/plugins/libio_e57.so: (/lib/x86_64-linux-gnu/libp11-kit.so.0: undefined symbol: ffi_type_pointer, version LIBFFI_BASE_7.0)\n",
      "\n"
     ]
    }
   ],
   "source": [
    "import pymeshlab"
   ]
  },
  {
   "cell_type": "code",
   "execution_count": 5,
   "metadata": {},
   "outputs": [
    {
     "name": "stdout",
     "output_type": "stream",
     "text": [
      "Number of Meshes: 1\n",
      "Mesh: 0 -- Vertices: 52541\n",
      "Mesh: 0 -- Vertices: 25596\n",
      "Image /home/valkyrie/Workspace/CVP/texture_0 cannot be saved. Your MeshLab version has not plugin to save  file format.\n"
     ]
    }
   ],
   "source": [
    "ms = pymeshlab.MeshSet()\n",
    "ms.load_new_mesh('./457cf1ce9c254830b59fc113371e5820.glb')\n",
    "number_meshes=ms.number_meshes()\n",
    "print (f\"Number of Meshes: {number_meshes}\")\n",
    "for mesh in range(0,number_meshes,1):\n",
    "    ms.set_current_mesh(mesh)\n",
    "    print (f\"Mesh: {mesh} -- Vertices: {ms.current_mesh().vertex_number()}\")\n",
    "    ms.meshing_decimation_quadric_edge_collapse(targetperc=0.5)\n",
    "    print (f\"Mesh: {mesh} -- Vertices: {ms.current_mesh().vertex_number()}\")\n",
    "    ms.compute_matrix_from_scaling_or_normalization(uniformflag=True,unitflag=True,freeze=True,alllayers=True)\n",
    "\n",
    "\n",
    "    try:\n",
    "        ms.save_current_mesh(f'./output_{mesh}.ply')\n",
    "    except Exception as e:\n",
    "        print (e)\n",
    "\n",
    "\n",
    "\n",
    "\n",
    "\n"
   ]
  },
  {
   "cell_type": "code",
   "execution_count": null,
   "metadata": {},
   "outputs": [],
   "source": []
  }
 ],
 "metadata": {
  "kernelspec": {
   "display_name": "docu",
   "language": "python",
   "name": "docu"
  },
  "language_info": {
   "codemirror_mode": {
    "name": "ipython",
    "version": 3
   },
   "file_extension": ".py",
   "mimetype": "text/x-python",
   "name": "python",
   "nbconvert_exporter": "python",
   "pygments_lexer": "ipython3",
   "version": "3.9.15"
  }
 },
 "nbformat": 4,
 "nbformat_minor": 2
}
