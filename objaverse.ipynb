{
 "cells": [
  {
   "cell_type": "code",
   "execution_count": 1,
   "metadata": {},
   "outputs": [
    {
     "data": {
      "text/plain": [
       "'0.1.5'"
      ]
     },
     "execution_count": 1,
     "metadata": {},
     "output_type": "execute_result"
    }
   ],
   "source": [
    "import objaverse\n",
    "import multiprocessing\n",
    "import random\n",
    "\n",
    "objaverse.__version__"
   ]
  },
  {
   "cell_type": "code",
   "execution_count": 2,
   "metadata": {},
   "outputs": [],
   "source": [
    "seed=42"
   ]
  },
  {
   "cell_type": "code",
   "execution_count": 3,
   "metadata": {},
   "outputs": [
    {
     "data": {
      "text/plain": [
       "(798759, list)"
      ]
     },
     "execution_count": 3,
     "metadata": {},
     "output_type": "execute_result"
    }
   ],
   "source": [
    "uids = objaverse.load_uids()\n",
    "len(uids), type(uids)"
   ]
  },
  {
   "cell_type": "code",
   "execution_count": 4,
   "metadata": {},
   "outputs": [
    {
     "data": {
      "text/plain": [
       "12"
      ]
     },
     "execution_count": 4,
     "metadata": {},
     "output_type": "execute_result"
    }
   ],
   "source": [
    "processes = multiprocessing.cpu_count()\n",
    "processes"
   ]
  },
  {
   "cell_type": "code",
   "execution_count": 8,
   "metadata": {},
   "outputs": [],
   "source": [
    "# objects = objaverse.load_objects(\n",
    "#     uids=random_object_uids,\n",
    "#     download_processes=processes\n",
    "# )"
   ]
  },
  {
   "cell_type": "code",
   "execution_count": 6,
   "metadata": {},
   "outputs": [],
   "source": [
    "lvis_annotations = objaverse.load_lvis_annotations()"
   ]
  },
  {
   "cell_type": "code",
   "execution_count": 8,
   "metadata": {},
   "outputs": [
    {
     "data": {
      "text/plain": [
       "['washbasin',\n",
       " 'alarm_clock',\n",
       " 'router_(computer_equipment)',\n",
       " 'candle_holder',\n",
       " 'windsock',\n",
       " 'anklet',\n",
       " 'tartan',\n",
       " 'pop_(soda)',\n",
       " 'sushi',\n",
       " 'zucchini',\n",
       " 'corkboard',\n",
       " 'eyepatch',\n",
       " 'racket',\n",
       " 'date_(fruit)',\n",
       " 'crow',\n",
       " 'combination_lock',\n",
       " 'sushi',\n",
       " 'tank_(storage_vessel)',\n",
       " 'skullcap',\n",
       " 'coffee_table']"
      ]
     },
     "execution_count": 8,
     "metadata": {},
     "output_type": "execute_result"
    }
   ],
   "source": [
    "# for keys in lvis_annotations.keys():\n",
    "seed=15\n",
    "object_type=20\n",
    "selected_uids=[]\n",
    "random.seed(seed)\n",
    "keys=random.choices(list(lvis_annotations.keys()),k=object_type)\n",
    "for key in keys:\n",
    "    obj_uid=lvis_annotations[key]\n",
    "    selected_uids.extend(random.choices(obj_uid,k=5))\n",
    "keys"
   ]
  },
  {
   "cell_type": "code",
   "execution_count": 10,
   "metadata": {},
   "outputs": [
    {
     "name": "stdout",
     "output_type": "stream",
     "text": [
      "starting download of 3 objects with 12 processes\n",
      "Downloaded 1 / 3 objects\n",
      "Downloaded 2 / 3 objects\n",
      "Downloaded 3 / 3 objects\n"
     ]
    }
   ],
   "source": [
    "objects = objaverse.load_objects(\n",
    "    uids=selected_uids,\n",
    "    download_processes=processes\n",
    ")"
   ]
  },
  {
   "cell_type": "code",
   "execution_count": 11,
   "metadata": {},
   "outputs": [
    {
     "data": {
      "text/plain": [
       "{'ea7e6a8cd09b4cb3a3b88d60c7f22bf2': '/home/valkyrie/.objaverse/hf-objaverse-v1/glbs/000-093/ea7e6a8cd09b4cb3a3b88d60c7f22bf2.glb',\n",
       " 'ec1352ff44754308b602f3d75eb32acb': '/home/valkyrie/.objaverse/hf-objaverse-v1/glbs/000-116/ec1352ff44754308b602f3d75eb32acb.glb',\n",
       " '796d74f06af34ced92f2085f660c17b7': '/home/valkyrie/.objaverse/hf-objaverse-v1/glbs/000-095/796d74f06af34ced92f2085f660c17b7.glb',\n",
       " '3a87780ff9c9462db4fda9287f348f4c': '/home/valkyrie/.objaverse/hf-objaverse-v1/glbs/000-043/3a87780ff9c9462db4fda9287f348f4c.glb',\n",
       " 'd8d13cf10bf44f21a9f23c5183db8c27': '/home/valkyrie/.objaverse/hf-objaverse-v1/glbs/000-139/d8d13cf10bf44f21a9f23c5183db8c27.glb',\n",
       " '2a8b4bf70a0544c1b6ad5fd2b65a6ee4': '/home/valkyrie/.objaverse/hf-objaverse-v1/glbs/000-003/2a8b4bf70a0544c1b6ad5fd2b65a6ee4.glb',\n",
       " 'dcf0f8db45c94f09b45f84e2c6cc4016': '/home/valkyrie/.objaverse/hf-objaverse-v1/glbs/000-081/dcf0f8db45c94f09b45f84e2c6cc4016.glb',\n",
       " '3f8645b0da054c258a11e6a0db8a66ad': '/home/valkyrie/.objaverse/hf-objaverse-v1/glbs/000-114/3f8645b0da054c258a11e6a0db8a66ad.glb',\n",
       " '8b6dc03827cd4e09a0582d4ffe2b8042': '/home/valkyrie/.objaverse/hf-objaverse-v1/glbs/000-083/8b6dc03827cd4e09a0582d4ffe2b8042.glb',\n",
       " '9a633eafd4ec41f099eea1b5a435ffe0': '/home/valkyrie/.objaverse/hf-objaverse-v1/glbs/000-056/9a633eafd4ec41f099eea1b5a435ffe0.glb',\n",
       " '4e402d8ef67a4403a6119e7707bc7af7': '/home/valkyrie/.objaverse/hf-objaverse-v1/glbs/000-118/4e402d8ef67a4403a6119e7707bc7af7.glb',\n",
       " '0157b39c4b434ceba885ddace4f5b9bd': '/home/valkyrie/.objaverse/hf-objaverse-v1/glbs/000-000/0157b39c4b434ceba885ddace4f5b9bd.glb',\n",
       " 'c5b1cb6338c04756b474065e8bbb619e': '/home/valkyrie/.objaverse/hf-objaverse-v1/glbs/000-087/c5b1cb6338c04756b474065e8bbb619e.glb',\n",
       " '47500b2c58704b929216a90c8c087567': '/home/valkyrie/.objaverse/hf-objaverse-v1/glbs/000-066/47500b2c58704b929216a90c8c087567.glb',\n",
       " '2c127277cfb94736b6c4051b61f9968c': '/home/valkyrie/.objaverse/hf-objaverse-v1/glbs/000-021/2c127277cfb94736b6c4051b61f9968c.glb',\n",
       " '86b0c9fff81e452cb67e10f4bf5833dc': '/home/valkyrie/.objaverse/hf-objaverse-v1/glbs/000-155/86b0c9fff81e452cb67e10f4bf5833dc.glb',\n",
       " 'df71272df9a745f8b6ef0e032caf5148': '/home/valkyrie/.objaverse/hf-objaverse-v1/glbs/000-122/df71272df9a745f8b6ef0e032caf5148.glb',\n",
       " '6ccb9799c3484aabb6d72b2c7ab96a8f': '/home/valkyrie/.objaverse/hf-objaverse-v1/glbs/000-069/6ccb9799c3484aabb6d72b2c7ab96a8f.glb',\n",
       " 'f1e8cc5cf9584f7ea6c2570f66163275': '/home/valkyrie/.objaverse/hf-objaverse-v1/glbs/000-009/f1e8cc5cf9584f7ea6c2570f66163275.glb',\n",
       " 'c8c312861f994d3ab10efebaef4a3d62': '/home/valkyrie/.objaverse/hf-objaverse-v1/glbs/000-144/c8c312861f994d3ab10efebaef4a3d62.glb',\n",
       " '5e8a5c521f1548378e17b462a1a21eab': '/home/valkyrie/.objaverse/hf-objaverse-v1/glbs/000-141/5e8a5c521f1548378e17b462a1a21eab.glb',\n",
       " '6b74cc88f5ce45488fba3a98a3fa41a8': '/home/valkyrie/.objaverse/hf-objaverse-v1/glbs/000-127/6b74cc88f5ce45488fba3a98a3fa41a8.glb',\n",
       " 'a76f1dc717114530806ab99b268ab801': '/home/valkyrie/.objaverse/hf-objaverse-v1/glbs/000-029/a76f1dc717114530806ab99b268ab801.glb',\n",
       " 'c0263f184b484120aef43b611df24ae0': '/home/valkyrie/.objaverse/hf-objaverse-v1/glbs/000-035/c0263f184b484120aef43b611df24ae0.glb',\n",
       " '70ef097e7a684ee89b6703634c1c266c': '/home/valkyrie/.objaverse/hf-objaverse-v1/glbs/000-076/70ef097e7a684ee89b6703634c1c266c.glb',\n",
       " 'f33e2b58a6864cc68dbd6b22f9118108': '/home/valkyrie/.objaverse/hf-objaverse-v1/glbs/000-019/f33e2b58a6864cc68dbd6b22f9118108.glb',\n",
       " '0ddcd8ec261f4ff3a7afe910d862f641': '/home/valkyrie/.objaverse/hf-objaverse-v1/glbs/000-071/0ddcd8ec261f4ff3a7afe910d862f641.glb',\n",
       " 'ddc654718e4449f6a19c4775d6295350': '/home/valkyrie/.objaverse/hf-objaverse-v1/glbs/000-097/ddc654718e4449f6a19c4775d6295350.glb',\n",
       " '262aba6fb5784022af77ef705cd650a3': '/home/valkyrie/.objaverse/hf-objaverse-v1/glbs/000-141/262aba6fb5784022af77ef705cd650a3.glb',\n",
       " '12ed6b6952004af1b069b306349e1daf': '/home/valkyrie/.objaverse/hf-objaverse-v1/glbs/000-097/12ed6b6952004af1b069b306349e1daf.glb',\n",
       " '79bc3c7436214c39ad32e03e1b164738': '/home/valkyrie/.objaverse/hf-objaverse-v1/glbs/000-012/79bc3c7436214c39ad32e03e1b164738.glb',\n",
       " 'a1fb3ec987264287a2d7d6e999b36db3': '/home/valkyrie/.objaverse/hf-objaverse-v1/glbs/000-113/a1fb3ec987264287a2d7d6e999b36db3.glb',\n",
       " 'cf95ee01636443a2b5c47b6af8a84a68': '/home/valkyrie/.objaverse/hf-objaverse-v1/glbs/000-037/cf95ee01636443a2b5c47b6af8a84a68.glb',\n",
       " '752a244b086b4822be8e7b39fa63c5b3': '/home/valkyrie/.objaverse/hf-objaverse-v1/glbs/000-138/752a244b086b4822be8e7b39fa63c5b3.glb',\n",
       " '1d3ed42e81c248cf809d39e8cd1a55db': '/home/valkyrie/.objaverse/hf-objaverse-v1/glbs/000-005/1d3ed42e81c248cf809d39e8cd1a55db.glb',\n",
       " '914c90667e0d419fa71577294bb4dd1a': '/home/valkyrie/.objaverse/hf-objaverse-v1/glbs/000-071/914c90667e0d419fa71577294bb4dd1a.glb',\n",
       " '0fa097564a954363aca9f65f91479a41': '/home/valkyrie/.objaverse/hf-objaverse-v1/glbs/000-151/0fa097564a954363aca9f65f91479a41.glb',\n",
       " '4c7904175d6d4676b73866c25110e8d3': '/home/valkyrie/.objaverse/hf-objaverse-v1/glbs/000-016/4c7904175d6d4676b73866c25110e8d3.glb',\n",
       " '7a3dc12d96f741ab84d358fd2ac3df28': '/home/valkyrie/.objaverse/hf-objaverse-v1/glbs/000-006/7a3dc12d96f741ab84d358fd2ac3df28.glb',\n",
       " '789e15b7cf234d59bc53cd81ef0f9d11': '/home/valkyrie/.objaverse/hf-objaverse-v1/glbs/000-037/789e15b7cf234d59bc53cd81ef0f9d11.glb',\n",
       " 'da22b449bef044b188e854dfe46a7aab': '/home/valkyrie/.objaverse/hf-objaverse-v1/glbs/000-076/da22b449bef044b188e854dfe46a7aab.glb',\n",
       " 'a4967310b3fa461ebb5ff3ff414380d8': '/home/valkyrie/.objaverse/hf-objaverse-v1/glbs/000-125/a4967310b3fa461ebb5ff3ff414380d8.glb',\n",
       " '1b004c0529a1426eb540fb6987fbb0d4': '/home/valkyrie/.objaverse/hf-objaverse-v1/glbs/000-030/1b004c0529a1426eb540fb6987fbb0d4.glb',\n",
       " 'a0037baf0c0249db869cd2a15826dafe': '/home/valkyrie/.objaverse/hf-objaverse-v1/glbs/000-097/a0037baf0c0249db869cd2a15826dafe.glb',\n",
       " '44c982a5367d4af8b845c7494ee55e6b': '/home/valkyrie/.objaverse/hf-objaverse-v1/glbs/000-139/44c982a5367d4af8b845c7494ee55e6b.glb',\n",
       " '0bb615b99122441ab399e769f29a20cd': '/home/valkyrie/.objaverse/hf-objaverse-v1/glbs/000-124/0bb615b99122441ab399e769f29a20cd.glb',\n",
       " '04a6192a1430407cbdf1e349a5afaa78': '/home/valkyrie/.objaverse/hf-objaverse-v1/glbs/000-000/04a6192a1430407cbdf1e349a5afaa78.glb',\n",
       " '7d572663201440f29ee52ae87e1a7bd5': '/home/valkyrie/.objaverse/hf-objaverse-v1/glbs/000-064/7d572663201440f29ee52ae87e1a7bd5.glb',\n",
       " 'c660699d45d14530bd450972c957541b': '/home/valkyrie/.objaverse/hf-objaverse-v1/glbs/000-089/c660699d45d14530bd450972c957541b.glb',\n",
       " '48f2b91c32514fc591014933ffeff042': '/home/valkyrie/.objaverse/hf-objaverse-v1/glbs/000-023/48f2b91c32514fc591014933ffeff042.glb',\n",
       " '9212555752064da88899a37c0a304e8b': '/home/valkyrie/.objaverse/hf-objaverse-v1/glbs/000-080/9212555752064da88899a37c0a304e8b.glb',\n",
       " '8fea18d70958470889c8035cf3cf298b': '/home/valkyrie/.objaverse/hf-objaverse-v1/glbs/000-146/8fea18d70958470889c8035cf3cf298b.glb',\n",
       " 'a910c3a649d04d488cebd406e13e83ff': '/home/valkyrie/.objaverse/hf-objaverse-v1/glbs/000-081/a910c3a649d04d488cebd406e13e83ff.glb',\n",
       " 'e6e8f0fb21d4420fb39ed7bde8305965': '/home/valkyrie/.objaverse/hf-objaverse-v1/glbs/000-076/e6e8f0fb21d4420fb39ed7bde8305965.glb',\n",
       " '5d730194b8c14c2ba083dd21837cd1c9': '/home/valkyrie/.objaverse/hf-objaverse-v1/glbs/000-108/5d730194b8c14c2ba083dd21837cd1c9.glb',\n",
       " 'ec85c1d53b064fc8bf37dde68da9eebb': '/home/valkyrie/.objaverse/hf-objaverse-v1/glbs/000-044/ec85c1d53b064fc8bf37dde68da9eebb.glb',\n",
       " '3ecfc0834b5b4883b840d0426c267efe': '/home/valkyrie/.objaverse/hf-objaverse-v1/glbs/000-109/3ecfc0834b5b4883b840d0426c267efe.glb',\n",
       " '2e24c954890d4616adc990ba2fdf6c62': '/home/valkyrie/.objaverse/hf-objaverse-v1/glbs/000-125/2e24c954890d4616adc990ba2fdf6c62.glb',\n",
       " 'bf711e537ff54be3b14eb6a767ff0896': '/home/valkyrie/.objaverse/hf-objaverse-v1/glbs/000-057/bf711e537ff54be3b14eb6a767ff0896.glb',\n",
       " '56e3d41fcab24b6699abf536419b7c47': '/home/valkyrie/.objaverse/hf-objaverse-v1/glbs/000-064/56e3d41fcab24b6699abf536419b7c47.glb',\n",
       " '3a99690fc35a47c0b275b1254b921997': '/home/valkyrie/.objaverse/hf-objaverse-v1/glbs/000-051/3a99690fc35a47c0b275b1254b921997.glb',\n",
       " 'eef54f067e254d4ea74dca5d9a9458f6': '/home/valkyrie/.objaverse/hf-objaverse-v1/glbs/000-011/eef54f067e254d4ea74dca5d9a9458f6.glb',\n",
       " 'aa67b378bd9c4322a0bb1f98adab8174': '/home/valkyrie/.objaverse/hf-objaverse-v1/glbs/000-110/aa67b378bd9c4322a0bb1f98adab8174.glb',\n",
       " '006d1922549f4f83a87158c46c8f8ea8': '/home/valkyrie/.objaverse/hf-objaverse-v1/glbs/000-000/006d1922549f4f83a87158c46c8f8ea8.glb',\n",
       " 'b1e106d8dd8141bdac3297f57e61652c': '/home/valkyrie/.objaverse/hf-objaverse-v1/glbs/000-072/b1e106d8dd8141bdac3297f57e61652c.glb',\n",
       " '1aa88f57eb3e4e36ab1c512ad637a366': '/home/valkyrie/.objaverse/hf-objaverse-v1/glbs/000-023/1aa88f57eb3e4e36ab1c512ad637a366.glb',\n",
       " '5ee3c671e6014f04ba3971c243acdfb9': '/home/valkyrie/.objaverse/hf-objaverse-v1/glbs/000-060/5ee3c671e6014f04ba3971c243acdfb9.glb',\n",
       " '38e22819d96c4ec3ac6362007258e4ac': '/home/valkyrie/.objaverse/hf-objaverse-v1/glbs/000-114/38e22819d96c4ec3ac6362007258e4ac.glb',\n",
       " 'bd3ac97071104b64bc388a155b64f79e': '/home/valkyrie/.objaverse/hf-objaverse-v1/glbs/000-075/bd3ac97071104b64bc388a155b64f79e.glb',\n",
       " '342892c5b0ff4519a2327d05316e266c': '/home/valkyrie/.objaverse/hf-objaverse-v1/glbs/000-018/342892c5b0ff4519a2327d05316e266c.glb',\n",
       " '80e2599b07714d7c93f68a048c07c4e3': '/home/valkyrie/.objaverse/hf-objaverse-v1/glbs/000-038/80e2599b07714d7c93f68a048c07c4e3.glb',\n",
       " 'd6995fe908b54ff6a3f6770cab6482a1': '/home/valkyrie/.objaverse/hf-objaverse-v1/glbs/000-046/d6995fe908b54ff6a3f6770cab6482a1.glb',\n",
       " 'f16a0693515b4cc789072bbf2aecc479': '/home/valkyrie/.objaverse/hf-objaverse-v1/glbs/000-135/f16a0693515b4cc789072bbf2aecc479.glb',\n",
       " '276a01e4b8484fcda02061e073662dc7': '/home/valkyrie/.objaverse/hf-objaverse-v1/glbs/000-111/276a01e4b8484fcda02061e073662dc7.glb',\n",
       " '25cb3b0549d049dfb4f180c81e43be90': '/home/valkyrie/.objaverse/hf-objaverse-v1/glbs/000-046/25cb3b0549d049dfb4f180c81e43be90.glb',\n",
       " 'eea21cf4cf2f4eb99649f816da594f90': '/home/valkyrie/.objaverse/hf-objaverse-v1/glbs/000-019/eea21cf4cf2f4eb99649f816da594f90.glb',\n",
       " '956a47ccc1a54a40a8711f3852d54433': '/home/valkyrie/.objaverse/hf-objaverse-v1/glbs/000-040/956a47ccc1a54a40a8711f3852d54433.glb',\n",
       " 'a9917037f0c643dbbde0475b59bc53b1': '/home/valkyrie/.objaverse/hf-objaverse-v1/glbs/000-004/a9917037f0c643dbbde0475b59bc53b1.glb',\n",
       " '04346631ca1e4c66b93586ada9756110': '/home/valkyrie/.objaverse/hf-objaverse-v1/glbs/000-000/04346631ca1e4c66b93586ada9756110.glb',\n",
       " 'bbe1d47c0d714884a66c53d6c1e5d177': '/home/valkyrie/.objaverse/hf-objaverse-v1/glbs/000-028/bbe1d47c0d714884a66c53d6c1e5d177.glb',\n",
       " '4896cf9b3e614662b29eec0f87d9a44b': '/home/valkyrie/.objaverse/hf-objaverse-v1/glbs/000-036/4896cf9b3e614662b29eec0f87d9a44b.glb',\n",
       " '7c81c6aa0ab342f6948289dc3fcb0ac1': '/home/valkyrie/.objaverse/hf-objaverse-v1/glbs/000-127/7c81c6aa0ab342f6948289dc3fcb0ac1.glb',\n",
       " '457cf1ce9c254830b59fc113371e5820': '/home/valkyrie/.objaverse/hf-objaverse-v1/glbs/000-031/457cf1ce9c254830b59fc113371e5820.glb'}"
      ]
     },
     "execution_count": 11,
     "metadata": {},
     "output_type": "execute_result"
    }
   ],
   "source": [
    "objects"
   ]
  },
  {
   "cell_type": "code",
   "execution_count": 1,
   "metadata": {},
   "outputs": [
    {
     "name": "stdout",
     "output_type": "stream",
     "text": [
      "Warning:\n",
      "Unable to load the following plugins:\n",
      "\n",
      "\tlibio_e57.so: libio_e57.so does not seem to be a Qt Plugin.\n",
      "\n",
      "Cannot load library /home/valkyrie/anaconda3/envs/docu/lib/python3.9/site-packages/pymeshlab/lib/plugins/libio_e57.so: (/lib/x86_64-linux-gnu/libp11-kit.so.0: undefined symbol: ffi_type_pointer, version LIBFFI_BASE_7.0)\n",
      "\n"
     ]
    }
   ],
   "source": [
    "import pymeshlab"
   ]
  }
 ],
 "metadata": {
  "kernelspec": {
   "display_name": "docu",
   "language": "python",
   "name": "docu"
  },
  "language_info": {
   "codemirror_mode": {
    "name": "ipython",
    "version": 3
   },
   "file_extension": ".py",
   "mimetype": "text/x-python",
   "name": "python",
   "nbconvert_exporter": "python",
   "pygments_lexer": "ipython3",
   "version": "3.9.15"
  }
 },
 "nbformat": 4,
 "nbformat_minor": 2
}
